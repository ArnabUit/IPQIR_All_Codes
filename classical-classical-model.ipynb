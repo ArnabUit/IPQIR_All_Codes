{
 "cells": [
  {
   "cell_type": "code",
   "execution_count": 1,
   "id": "0de5253b",
   "metadata": {
    "execution": {
     "iopub.execute_input": "2025-10-15T19:17:08.883435Z",
     "iopub.status.busy": "2025-10-15T19:17:08.882962Z",
     "iopub.status.idle": "2025-10-15T19:17:11.870140Z",
     "shell.execute_reply": "2025-10-15T19:17:11.869175Z"
    },
    "papermill": {
     "duration": 2.997578,
     "end_time": "2025-10-15T19:17:11.874642",
     "exception": false,
     "start_time": "2025-10-15T19:17:08.877064",
     "status": "completed"
    },
    "tags": []
   },
   "outputs": [
    {
     "data": {
      "text/plain": [
       "\"\\nfor dirname, _, filenames in os.walk('/kaggle/input'):\\n    for filename in filenames:\\n        print(os.path.join(dirname, filename))\\n\""
      ]
     },
     "execution_count": 1,
     "metadata": {},
     "output_type": "execute_result"
    }
   ],
   "source": [
    "# This Python 3 environment comes with many helpful analytics libraries installed\n",
    "# It is defined by the kaggle/python Docker image: https://github.com/kaggle/docker-python\n",
    "# For example, here's several helpful packages to load\n",
    "\n",
    "import numpy as np # linear algebra\n",
    "import pandas as pd # data processing, CSV file I/O (e.g. pd.read_csv)\n",
    "\n",
    "# Input data files are available in the read-only \"../input/\" directory\n",
    "# For example, running this (by clicking run or pressing Shift+Enter) will list all files under the input directory\n",
    "\n",
    "import os\n",
    "import pandas as pd\n",
    "import numpy as np\n",
    "from sklearn.model_selection import train_test_split\n",
    "import cv2\n",
    "import matplotlib.pyplot as plt\n",
    "import glob\n",
    "from tqdm import tqdm\n",
    "\n",
    "import numpy as np\n",
    "import matplotlib.pyplot as plt\n",
    "\n",
    "from torch.autograd import Function\n",
    "\n",
    "import torch\n",
    "from torch import nn, optim\n",
    "import torch.nn.functional as F\n",
    "import torchvision\n",
    "from torchvision import datasets, transforms, models\n",
    "from torch.autograd import Variable\n",
    "from torch.utils.data.sampler import SubsetRandomSampler\n",
    "import shutil\n",
    "import pickle\n",
    "np.random.seed(333)\n",
    "'''\n",
    "for dirname, _, filenames in os.walk('/kaggle/input'):\n",
    "    for filename in filenames:\n",
    "        print(os.path.join(dirname, filename))\n",
    "'''\n",
    "# You can write up to 20GB to the current directory (/kaggle/working/) that gets preserved as output when you create a version using \"Save & Run All\" \n",
    "# You can also write temporary files to /kaggle/temp/, but they won't be saved outside of the current session"
   ]
  },
  {
   "cell_type": "code",
   "execution_count": 2,
   "id": "cae8b20e",
   "metadata": {
    "execution": {
     "iopub.execute_input": "2025-10-15T19:17:11.883048Z",
     "iopub.status.busy": "2025-10-15T19:17:11.882021Z",
     "iopub.status.idle": "2025-10-15T19:17:11.888550Z",
     "shell.execute_reply": "2025-10-15T19:17:11.887800Z"
    },
    "papermill": {
     "duration": 0.012163,
     "end_time": "2025-10-15T19:17:11.890243",
     "exception": false,
     "start_time": "2025-10-15T19:17:11.878080",
     "status": "completed"
    },
    "tags": []
   },
   "outputs": [],
   "source": [
    "data_dir = \"/kaggle/input/chest-x-ray-classical-and-quantum-dataset/chest_xray/chest_xray/\"\n",
    "# data_dir2 = \"../input/chest-xray-pneumonia/chest_xray/val/\"\n",
    "# data_dir3 = \"../input/chest-xray-pneumonia/chest_xray/test/\"\n",
    "# Define transforms for the training and validation sets\n",
    "data_transforms ={\n",
    "    \"train_transforms\": transforms.Compose([transforms.Resize((256,256)), transforms.ToTensor()]),\n",
    "    \"valid_transforms\": transforms.Compose([transforms.Resize((256,256)), transforms.ToTensor()]), \n",
    "    \"test_transforms\": transforms.Compose([transforms.Resize((256,256)), transforms.ToTensor()])\n",
    "}\n",
    "\n",
    "# Split the dataset into train, validation and test\n",
    "train_data_p = 0.7\n",
    "valid_data_p = 0.1\n",
    "test_data_p = 0.2\n",
    "\n"
   ]
  },
  {
   "cell_type": "code",
   "execution_count": 3,
   "id": "64605876",
   "metadata": {
    "execution": {
     "iopub.execute_input": "2025-10-15T19:17:11.898243Z",
     "iopub.status.busy": "2025-10-15T19:17:11.897437Z",
     "iopub.status.idle": "2025-10-15T19:17:17.428004Z",
     "shell.execute_reply": "2025-10-15T19:17:17.426561Z"
    },
    "papermill": {
     "duration": 5.536513,
     "end_time": "2025-10-15T19:17:17.429959",
     "exception": false,
     "start_time": "2025-10-15T19:17:11.893446",
     "status": "completed"
    },
    "tags": []
   },
   "outputs": [
    {
     "name": "stdout",
     "output_type": "stream",
     "text": [
      "5856 5856 5856\n",
      "4099 585 1172\n",
      "Training 4099 0.6999658469945356\n",
      "Validation 585 0.09989754098360656\n",
      "Test 1172 0.20013661202185792\n",
      "4099 585 1172\n"
     ]
    }
   ],
   "source": [
    "# Load the datasets with ImageFolder\n",
    "train_data = datasets.ImageFolder(data_dir, transform=data_transforms[\"train_transforms\"])#loading dataset\n",
    "valid_data = datasets.ImageFolder(data_dir, transform=data_transforms[\"valid_transforms\"])\n",
    "test_data = datasets.ImageFolder(data_dir, transform=data_transforms[\"test_transforms\"])\n",
    "\n",
    "# Obtain training indices that will be used for validation and test\n",
    "num_train = len(train_data)\n",
    "print(len(train_data),len(valid_data),len(test_data))\n",
    "indices = list(range(num_train))\n",
    "np.random.shuffle(indices)\n",
    "train_count = int(train_data_p*num_train)\n",
    "valid_count = int(valid_data_p*num_train)\n",
    "test_count = num_train - train_count - valid_count\n",
    "train_idx = indices[:train_count]\n",
    "valid_idx = indices[train_count:train_count+valid_count]\n",
    "test_idx = indices[train_count+valid_count:]\n",
    "\n",
    "print(len(train_idx), len(valid_idx), len(test_idx))\n",
    "print(\"Training\", train_count, np.sum(len(train_idx)/num_train))\n",
    "print(\"Validation\", valid_count, np.sum(len(valid_idx)/num_train))\n",
    "print(\"Test\", test_count, np.sum(len(test_idx)/num_train))\n",
    "\n",
    "# Define a custom sampler for the dataset loader avoiding recreating the dataset (just creating a new loader for each different sampling)\n",
    "train_sampler = SubsetRandomSampler(train_idx)\n",
    "valid_sampler = SubsetRandomSampler(valid_idx)\n",
    "test_sampler = SubsetRandomSampler(test_idx)\n",
    "\n",
    "# Define the dataloaders using the image datasets. Dataloader is used to load our data in batches\n",
    "trainloader = torch.utils.data.DataLoader(train_data, batch_size = 1, sampler=train_sampler)\n",
    "validloader = torch.utils.data.DataLoader(valid_data, batch_size = 1, sampler = valid_sampler)\n",
    "testloader = torch.utils.data.DataLoader(test_data, batch_size = 1, sampler = test_sampler)\n",
    "print(len(trainloader),len(validloader),len(testloader))\n",
    "\n",
    "classes=['normal','pneumonia']\n",
    "\n",
    "def imshow(img):\n",
    "    img = img / 2 + 0.5 #unnormalize\n",
    "    plt.imshow(np.transpose(img, (1,2,0))) #convert tensor image type to numpy image type for visualization\n",
    "\n",
    "\n",
    "#Visualize some sample data\n",
    "#Obtain one batch of training images\n",
    "dataiter = iter(trainloader)\n",
    "images, labels = dataiter.__next__()\n",
    "images = images.numpy() #convert images to numpy for display\n",
    "\n",
    "#Plot the images in the batch, along with corresponding labels\n"
   ]
  },
  {
   "cell_type": "code",
   "execution_count": 4,
   "id": "956884b2",
   "metadata": {
    "execution": {
     "iopub.execute_input": "2025-10-15T19:17:17.438383Z",
     "iopub.status.busy": "2025-10-15T19:17:17.437616Z",
     "iopub.status.idle": "2025-10-15T19:17:17.443104Z",
     "shell.execute_reply": "2025-10-15T19:17:17.442392Z"
    },
    "papermill": {
     "duration": 0.011549,
     "end_time": "2025-10-15T19:17:17.444843",
     "exception": false,
     "start_time": "2025-10-15T19:17:17.433294",
     "status": "completed"
    },
    "tags": []
   },
   "outputs": [
    {
     "data": {
      "text/plain": [
       "'\\nfig = plt.figure(figsize=(25,4))\\nfor idx in np.arange(20):\\n    ax = fig.add_subplot(2, 20/2, idx+1, xticks=[], yticks=[])\\n    imshow(images[idx])\\n    #ax.set_title(str(labels[idx].item()))\\n    ax.set_title(classes[labels[idx]])\\n'"
      ]
     },
     "execution_count": 4,
     "metadata": {},
     "output_type": "execute_result"
    }
   ],
   "source": [
    "'''\n",
    "fig = plt.figure(figsize=(25,4))\n",
    "for idx in np.arange(20):\n",
    "    ax = fig.add_subplot(2, 20/2, idx+1, xticks=[], yticks=[])\n",
    "    imshow(images[idx])\n",
    "    #ax.set_title(str(labels[idx].item()))\n",
    "    ax.set_title(classes[labels[idx]])\n",
    "'''"
   ]
  },
  {
   "cell_type": "code",
   "execution_count": 5,
   "id": "0b356f0f",
   "metadata": {
    "execution": {
     "iopub.execute_input": "2025-10-15T19:17:17.452376Z",
     "iopub.status.busy": "2025-10-15T19:17:17.452084Z",
     "iopub.status.idle": "2025-10-15T19:17:17.464615Z",
     "shell.execute_reply": "2025-10-15T19:17:17.463699Z"
    },
    "papermill": {
     "duration": 0.01864,
     "end_time": "2025-10-15T19:17:17.466627",
     "exception": false,
     "start_time": "2025-10-15T19:17:17.447987",
     "status": "completed"
    },
    "tags": []
   },
   "outputs": [],
   "source": [
    "class Net(nn.Module):\n",
    "    def __init__(self):\n",
    "        super(Net, self).__init__()\n",
    "        self.conv1 = nn.Conv2d(3, 6, kernel_size=5)\n",
    "        self.conv2 = nn.Conv2d(6, 16, kernel_size=5)\n",
    "        self.dropout = nn.Dropout2d()\n",
    "        self.fc1 = nn.Linear(59536, 64)\n",
    "        self.fc2 = nn.Linear(64, 1)\n",
    "        self.hybrid = nn.Sigmoid()\n",
    "        #self.hybrid = Hybrid(qiskit.Aer.get_backend('aer_simulator'), 100, np.pi / 2)\n",
    "\n",
    "    def forward(self, x):\n",
    "        x = F.relu(self.conv1(x))\n",
    "        x = F.max_pool2d(x, 2)\n",
    "        x = F.relu(self.conv2(x))\n",
    "        x = F.max_pool2d(x, 2)\n",
    "        x = self.dropout(x)\n",
    "        x = x.view(1, -1)\n",
    "        x = F.relu(self.fc1(x))\n",
    "        x = self.fc2(x)\n",
    "        x = self.hybrid(x)\n",
    "        return torch.cat((x, 1 - x), -1)\n",
    "\n",
    "\n",
    "    \n",
    "class Net1(nn.Module):\n",
    "    def __init__(self, num_classes=2):\n",
    "        super(Net1, self).__init__()\n",
    "        \n",
    "        self.conv1 = nn.Conv2d(in_channels=3, out_channels=32, kernel_size=3)\n",
    "        self.bn1 = nn.BatchNorm2d(32)\n",
    "        \n",
    "        self.conv2 = nn.Conv2d(in_channels=32, out_channels=32, kernel_size=5, stride=2, padding=2)\n",
    "        self.bn2 = nn.BatchNorm2d(32)\n",
    "        self.dropout1 = nn.Dropout(0.4)\n",
    "        \n",
    "        self.conv3 = nn.Conv2d(in_channels=32, out_channels=64, kernel_size=5, stride=2, padding=2)\n",
    "        self.bn3 = nn.BatchNorm2d(64)\n",
    "        self.dropout2 = nn.Dropout(0.4)\n",
    "        \n",
    "        self.flatten = nn.Flatten()\n",
    "        \n",
    "        self.fc = nn.Linear(64*64*64, num_classes)\n",
    "        # self.softmax = nn.Softmax(dim=1)\n",
    "        self.fc2 = nn.Linear(num_classes, 1)\n",
    "        self.hybrid = nn.Sigmoid()\n",
    "        \n",
    "    def forward(self, x):\n",
    "        x = F.relu(self.conv1(x))\n",
    "        x = self.bn1(x)\n",
    "        \n",
    "        x = F.relu(self.conv2(x))\n",
    "        x = self.bn2(x)\n",
    "        x = self.dropout1(x)\n",
    "        \n",
    "        x = F.relu(self.conv3(x))\n",
    "        x = self.bn3(x)\n",
    "        x = self.dropout2(x)\n",
    "        \n",
    "        x = self.flatten(x)\n",
    "        \n",
    "        x = self.fc(x)\n",
    "        # x = self.softmax(x)\n",
    "        # return x\n",
    "        x = self.fc2(x)\n",
    "        x = self.hybrid(x)\n",
    "        return torch.cat((x, 1 - x), -1)\n",
    "        "
   ]
  },
  {
   "cell_type": "code",
   "execution_count": 6,
   "id": "eb355f5d",
   "metadata": {
    "execution": {
     "iopub.execute_input": "2025-10-15T19:17:17.474032Z",
     "iopub.status.busy": "2025-10-15T19:17:17.473769Z",
     "iopub.status.idle": "2025-10-15T19:17:17.486164Z",
     "shell.execute_reply": "2025-10-15T19:17:17.485500Z"
    },
    "papermill": {
     "duration": 0.018169,
     "end_time": "2025-10-15T19:17:17.487991",
     "exception": false,
     "start_time": "2025-10-15T19:17:17.469822",
     "status": "completed"
    },
    "tags": []
   },
   "outputs": [],
   "source": [
    "model = Net1()\n",
    "optimizer_transfer = optim.Adam(model.parameters(), lr=0.001)\n",
    "criterion_transfer = nn.NLLLoss()\n",
    "# criterion_transfer = nn.CrossEntropyLoss()\n",
    "\n",
    "epochs = 20\n",
    "loss_list = []"
   ]
  },
  {
   "cell_type": "code",
   "execution_count": 7,
   "id": "74cc94e8",
   "metadata": {
    "execution": {
     "iopub.execute_input": "2025-10-15T19:17:17.495729Z",
     "iopub.status.busy": "2025-10-15T19:17:17.495237Z",
     "iopub.status.idle": "2025-10-15T19:17:19.792938Z",
     "shell.execute_reply": "2025-10-15T19:17:19.791866Z"
    },
    "papermill": {
     "duration": 2.303895,
     "end_time": "2025-10-15T19:17:19.795180",
     "exception": false,
     "start_time": "2025-10-15T19:17:17.491285",
     "status": "completed"
    },
    "tags": []
   },
   "outputs": [
    {
     "name": "stdout",
     "output_type": "stream",
     "text": [
      "True\n"
     ]
    }
   ],
   "source": [
    "# Specify loss function and optimizer\n",
    "#criterion_transfer = nn.CrossEntropyLoss()\n",
    "#optimizer_transfer = optim.SGD(model.parameters(), lr=0.001, momentum=0.9)\n",
    "use_cuda = torch.cuda.is_available()\n",
    "print(use_cuda)\n",
    "if use_cuda:\n",
    "    device = torch.device(\"cuda\")\n",
    "    model = model.to(device)"
   ]
  },
  {
   "cell_type": "code",
   "execution_count": 8,
   "id": "38fc7955",
   "metadata": {
    "execution": {
     "iopub.execute_input": "2025-10-15T19:17:19.803669Z",
     "iopub.status.busy": "2025-10-15T19:17:19.803049Z",
     "iopub.status.idle": "2025-10-15T19:25:57.122767Z",
     "shell.execute_reply": "2025-10-15T19:25:57.121692Z"
    },
    "papermill": {
     "duration": 517.32965,
     "end_time": "2025-10-15T19:25:57.128318",
     "exception": false,
     "start_time": "2025-10-15T19:17:19.798668",
     "status": "completed"
    },
    "tags": []
   },
   "outputs": [
    {
     "name": "stdout",
     "output_type": "stream",
     "text": [
      "Epoch: 1 \tTraining Loss: -0.72976-0.7298 \tValidation Loss: -0.74355\n",
      "Validation loss decreased (inf --> -0.74355). Saving model ...\n",
      "Epoch: 2 \tTraining Loss: -0.73018-0.7302 \tValidation Loss: -0.74352\n",
      "Epoch: 3 \tTraining Loss: -0.73018-0.7302 \tValidation Loss: -0.74191\n",
      "Epoch: 4 \tTraining Loss: -0.73018-0.7302 \tValidation Loss: -0.74190\n"
     ]
    },
    {
     "data": {
      "text/plain": [
       "<All keys matched successfully>"
      ]
     },
     "execution_count": 8,
     "metadata": {},
     "output_type": "execute_result"
    }
   ],
   "source": [
    "# Train the model\n",
    "def train(n_epochs, loaders, model, optimizer, criterion, use_cuda, save_path):\n",
    "    '''returns trained model'''\n",
    "    # Initialize tracker for minimum validation loss\n",
    "    valid_loss_min = np.inf\n",
    "    device = torch.device(\"cuda\")\n",
    "\n",
    "    for epoch in range(1, n_epochs+1):\n",
    "        total_loss = []\n",
    "        # In the training loop, I track down the loss\n",
    "        # Initialize variables to monitor training and validation loss\n",
    "        train_loss = 0.0\n",
    "        valid_loss = 0.0\n",
    "        model = model.cuda()\n",
    "\n",
    "        # Model training\n",
    "        model.train()\n",
    "        for batch_idx, (data,target) in enumerate(trainloader):\n",
    "            # 1st step: Move to GPU\n",
    "            if use_cuda:\n",
    "                data,target = data.cuda(), target.cuda()\n",
    "\n",
    "            # Then, clear (zero out) the gradient of all optimized variables\n",
    "            optimizer.zero_grad()\n",
    "            # Forward pass: compute predicted outputs by passing inputs to the model\n",
    "            output = model(data).to(device)\n",
    "            # Perform the Cross Entropy Loss. Calculate the batch loss.\n",
    "            loss = criterion(output, target)\n",
    "            # Backward pass: compute gradient of the loss with respect to model parameters\n",
    "            loss.backward()\n",
    "            # Perform optimization step (parameter update)\n",
    "            optimizer.step()\n",
    "            # Record the average training loss\n",
    "            train_loss = train_loss + ((1/ (batch_idx + 1 ))*(loss.data-train_loss))\n",
    "            total_loss.append(loss.item())\n",
    "        loss_list.append(sum(total_loss)/len(total_loss))\n",
    "\n",
    "        # Model validation\n",
    "        model.eval()\n",
    "        for batch_idx, (data,target) in enumerate(validloader):\n",
    "            # Move to GPU\n",
    "            if use_cuda:\n",
    "                data, target = data.cuda(), target.cuda()\n",
    "            # Update the average validation loss\n",
    "            # Forward pass: compute predicted outputs by passing inputs to the model\n",
    "            output = model(data).to(device)\n",
    "            # Calculate the batch loss\n",
    "            loss = criterion(output, target)\n",
    "            # Update the average validation loss\n",
    "            valid_loss = valid_loss + ((1/ (batch_idx +1)) * (loss.data - valid_loss))\n",
    "\n",
    "        # print training/validation stats\n",
    "        print('Epoch: {} \\tTraining Loss: {:.5f}{:.4f} \\tValidation Loss: {:.5f}'.format(\n",
    "            epoch,\n",
    "            train_loss,\n",
    "            loss_list[-1],\n",
    "            valid_loss))\n",
    "\n",
    "        # Save the model if validation loss has decreased\n",
    "        if valid_loss <= valid_loss_min:\n",
    "            print('Validation loss decreased ({:.5f} --> {:.5f}). Saving model ...'.format(\n",
    "                valid_loss_min,\n",
    "                valid_loss))\n",
    "            torch.save(model.state_dict(), os.path.join('model_transfer.pt'))\n",
    "            valid_loss_min = valid_loss\n",
    "\n",
    "    # Return trained model\n",
    "    return model\n",
    "\n",
    "# Define loaders transfer\n",
    "loaders_transfer = {'train': trainloader,\n",
    "                    'valid': validloader,\n",
    "                    'test': testloader}\n",
    "\n",
    "# Train the model\n",
    "model_transfer = train(4, loaders_transfer, model, optimizer_transfer, criterion_transfer, use_cuda, os.path.join('model_transfer.pt'))\n",
    "\n",
    "\n",
    "# Load the model that got the best validation accuracy\n",
    "model_transfer.load_state_dict(torch.load(os.path.join('model_transfer.pt')))\n",
    "\n"
   ]
  },
  {
   "cell_type": "code",
   "execution_count": 9,
   "id": "d202c90e",
   "metadata": {
    "execution": {
     "iopub.execute_input": "2025-10-15T19:25:57.137715Z",
     "iopub.status.busy": "2025-10-15T19:25:57.137397Z",
     "iopub.status.idle": "2025-10-15T19:25:57.293931Z",
     "shell.execute_reply": "2025-10-15T19:25:57.292959Z"
    },
    "papermill": {
     "duration": 0.166361,
     "end_time": "2025-10-15T19:25:57.298687",
     "exception": false,
     "start_time": "2025-10-15T19:25:57.132326",
     "status": "completed"
    },
    "tags": []
   },
   "outputs": [
    {
     "data": {
      "text/plain": [
       "Text(0, 0.5, 'Neg Log Likelihood Loss')"
      ]
     },
     "execution_count": 9,
     "metadata": {},
     "output_type": "execute_result"
    },
    {
     "data": {
      "image/png": "[encoded data removed]",
      "text/plain": [
       "<Figure size 640x480 with 1 Axes>"
      ]
     },
     "metadata": {},
     "output_type": "display_data"
    }
   ],
   "source": [
    "plt.plot(loss_list)\n",
    "plt.title('Hybrid NN Training Convergence')\n",
    "plt.xlabel('Training Iterations')\n",
    "plt.ylabel('Neg Log Likelihood Loss')"
   ]
  },
  {
   "cell_type": "code",
   "execution_count": 10,
   "id": "92e8d1cb",
   "metadata": {
    "execution": {
     "iopub.execute_input": "2025-10-15T19:25:57.314451Z",
     "iopub.status.busy": "2025-10-15T19:25:57.314125Z",
     "iopub.status.idle": "2025-10-15T19:26:25.704651Z",
     "shell.execute_reply": "2025-10-15T19:26:25.703613Z"
    },
    "papermill": {
     "duration": 28.397608,
     "end_time": "2025-10-15T19:26:25.706786",
     "exception": false,
     "start_time": "2025-10-15T19:25:57.309178",
     "status": "completed"
    },
    "tags": []
   },
   "outputs": [
    {
     "name": "stdout",
     "output_type": "stream",
     "text": [
      "Test Loss: -0.720136\n",
      "\n",
      "\n",
      "Test Accuracy: 72% (844/1172)\n"
     ]
    }
   ],
   "source": [
    "def test(loaders, model, criterion, use_cuda):\n",
    "\n",
    "    # monitor test loss and accuracy\n",
    "    test_loss = 0.\n",
    "    correct = 0.\n",
    "    total = 0.\n",
    "    device = torch.device(\"cuda\")\n",
    "\n",
    "    model_transfer.eval() #set model into evaluation/testing mode. It turns of drop off layer\n",
    "    with torch.no_grad():\n",
    "        #Iterating over test data\n",
    "        for batch_idx, (data, target) in enumerate(loaders['test']):\n",
    "            # move to GPU\n",
    "            if use_cuda:\n",
    "                data, target = data.cuda(), target.cuda()\n",
    "            # forward pass: compute predicted outputs by passing inputs to the model\n",
    "            output = model(data).to(device)\n",
    "            # calculate the loss\n",
    "            loss = criterion(output, target)\n",
    "            # update average test loss \n",
    "            test_loss = test_loss + ((1 / (batch_idx + 1)) * (loss.data - test_loss))\n",
    "            # convert output probabilities to predicted class\n",
    "            pred = output.data.max(1, keepdim=True)[1]\n",
    "            # compare predictions to \n",
    "            correct += np.sum(np.squeeze(pred.eq(target.data.view_as(pred))).cpu().numpy())\n",
    "            total += data.size(0)\n",
    "\n",
    "    print('Test Loss: {:.6f}\\n'.format(test_loss))\n",
    "\n",
    "    print('\\nTest Accuracy: %2d%% (%2d/%2d)' % (\n",
    "        100. * correct / total, correct, total))\n",
    "\n",
    "# call test function    \n",
    "test(loaders_transfer, model_transfer, criterion_transfer, use_cuda)\n",
    "\n",
    "\n",
    "#Obtain one batch of test images\n",
    "dataiter = iter(testloader)\n",
    "images, labels = dataiter.__next__()\n",
    "images.numpy\n",
    "\n",
    "#Move model inputs to cuda, if GPU available\n",
    "if use_cuda:\n",
    "    images = images.cuda()\n",
    "\n",
    "#Get sample outputs\n",
    "output= model_transfer(images)\n",
    "\n",
    "#Convert output probabilities to predicted class\n",
    "_,preds_tensor = torch.max(output,1)\n",
    "preds = np.squeeze(preds_tensor.numpy()) if not use_cuda else np.squeeze(preds_tensor.cpu().numpy())\n",
    "\n",
    "# print(model_transfer.state_dict())"
   ]
  },
  {
   "cell_type": "code",
   "execution_count": 11,
   "id": "2e999937",
   "metadata": {
    "execution": {
     "iopub.execute_input": "2025-10-15T19:26:25.716203Z",
     "iopub.status.busy": "2025-10-15T19:26:25.715907Z",
     "iopub.status.idle": "2025-10-15T19:26:49.941441Z",
     "shell.execute_reply": "2025-10-15T19:26:49.940399Z"
    },
    "papermill": {
     "duration": 24.232496,
     "end_time": "2025-10-15T19:26:49.943534",
     "exception": false,
     "start_time": "2025-10-15T19:26:25.711038",
     "status": "completed"
    },
    "tags": []
   },
   "outputs": [
    {
     "name": "stdout",
     "output_type": "stream",
     "text": [
      "tensor([[  0., 327.],\n",
      "        [  1., 844.]])\n"
     ]
    }
   ],
   "source": [
    "\n",
    "\n",
    "nb_classes = 2\n",
    "\n",
    "confusion_matrix = torch.zeros(nb_classes, nb_classes)\n",
    "with torch.no_grad():\n",
    "    for i, (inputs, classes) in enumerate(loaders_transfer['test']):\n",
    "        inputs = inputs.to(device)\n",
    "        classes = classes.to(device)\n",
    "        outputs = model(inputs)\n",
    "        _, preds = torch.max(outputs, 1)\n",
    "        for t, p in zip(classes.view(-1), preds.view(-1)):\n",
    "                confusion_matrix[t.long(), p.long()] += 1\n",
    "\n",
    "print(confusion_matrix)\n",
    "\n"
   ]
  },
  {
   "cell_type": "code",
   "execution_count": 12,
   "id": "f8cdcdad",
   "metadata": {
    "execution": {
     "iopub.execute_input": "2025-10-15T19:26:49.953336Z",
     "iopub.status.busy": "2025-10-15T19:26:49.952733Z",
     "iopub.status.idle": "2025-10-15T19:26:49.985890Z",
     "shell.execute_reply": "2025-10-15T19:26:49.984790Z"
    },
    "papermill": {
     "duration": 0.040068,
     "end_time": "2025-10-15T19:26:49.987848",
     "exception": false,
     "start_time": "2025-10-15T19:26:49.947780",
     "status": "completed"
    },
    "tags": []
   },
   "outputs": [
    {
     "name": "stdout",
     "output_type": "stream",
     "text": [
      "tensor([[0., 1.]], device='cuda:0', grad_fn=<CatBackward0>) tensor([1], device='cuda:0') ['pneumonia']\n"
     ]
    }
   ],
   "source": [
    "from PIL import Image\n",
    "transform = transforms.Compose([\n",
    "    transforms.Resize((256,256)),\n",
    "    transforms.ToTensor()])\n",
    "# /kaggle/input/human-non-human-classical-quantum-dataset/human and non human/human and non human/humans/AJ_Lamas_0001.jpg\n",
    "image_path = \"/kaggle/input/chest-x-ray-classical-and-quantum-dataset/chest_xray/chest_xray/PNEUMONIA/person1000_bacteria_2931.jpeg\"\n",
    "img = Image.open(image_path)\n",
    "img = img.convert('RGB')\n",
    "batch_t = torch.unsqueeze(transform(img), 0)\n",
    "device = torch.device(\"cuda\")\n",
    "batch_t = batch_t.to(device)\n",
    "\n",
    "model.eval()\n",
    "outputs = model(batch_t)\n",
    "_, predicted = torch.max(outputs, 1)\n",
    "title = [['normal','pneumonia'][x] for x in predicted]\n",
    "#prob = torch.nn.functional.softmax(1, dim=1)[0] * 100\n",
    "print(outputs,predicted,title)"
   ]
  },
  {
   "cell_type": "code",
   "execution_count": null,
   "id": "8d43bb8d",
   "metadata": {
    "papermill": {
     "duration": 0.004005,
     "end_time": "2025-10-15T19:26:49.996179",
     "exception": false,
     "start_time": "2025-10-15T19:26:49.992174",
     "status": "completed"
    },
    "tags": []
   },
   "outputs": [],
   "source": []
  }
 ],
 "metadata": {
  "kaggle": {
   "accelerator": "gpu",
   "dataSources": [
    {
     "datasetId": 17810,
     "sourceId": 23812,
     "sourceType": "datasetVersion"
    },
    {
     "datasetId": 2902458,
     "sourceId": 5002696,
     "sourceType": "datasetVersion"
    },
    {
     "datasetId": 3875642,
     "sourceId": 6728413,
     "sourceType": "datasetVersion"
    },
    {
     "datasetId": 3931951,
     "sourceId": 6839494,
     "sourceType": "datasetVersion"
    }
   ],
   "dockerImageVersionId": 30388,
   "isGpuEnabled": true,
   "isInternetEnabled": true,
   "language": "python",
   "sourceType": "notebook"
  },
  "kernelspec": {
   "display_name": "Python 3",
   "language": "python",
   "name": "python3"
  },
  "language_info": {
   "codemirror_mode": {
    "name": "ipython",
    "version": 3
   },
   "file_extension": ".py",
   "mimetype": "text/x-python",
   "name": "python",
   "nbconvert_exporter": "python",
   "pygments_lexer": "ipython3",
   "version": "3.7.12"
  },
  "papermill": {
   "default_parameters": {},
   "duration": 589.932169,
   "end_time": "2025-10-15T19:26:51.524755",
   "environment_variables": {},
   "exception": null,
   "input_path": "__notebook__.ipynb",
   "output_path": "__notebook__.ipynb",
   "parameters": {},
   "start_time": "2025-10-15T19:17:01.592586",
   "version": "2.3.4"
  }
 },
 "nbformat": 4,
 "nbformat_minor": 5
}
